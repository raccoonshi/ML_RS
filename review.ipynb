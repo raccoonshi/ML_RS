import numpy as np
import matplotlib.pyplot as plt
from tensorflow.keras.models import Sequential
from tensorflow.keras.layers import Dense
from tensorflow.keras.datasets import imdb

# Загрузка данных IMDB
max_words = 10000
(x_train, y_train), (x_test, y_test) = imdb.load_data(num_words=max_words)

# Функция для векторизации последовательностей
def vectorize_sequences(sequences, dimension=10000):
    results = np.zeros((len(sequences), dimension))
    for i, sequence in enumerate(sequences):
        results[i, sequence] = 1.
    return results

# Векторизация данных
x_train = vectorize_sequences(x_train, max_words)
x_test = vectorize_sequences(x_test, max_words)

# Создание модели
model = Sequential()
model.add(Dense(128, activation='relu', input_shape=(max_words,)))
model.add(Dense(64, activation='relu'))
model.add(Dense(1, activation='sigmoid'))

# Компиляция модели
model.compile(optimizer='adam', 
              loss='binary_crossentropy', 
              metrics=['accuracy'])

# Обучение модели
history = model.fit(x_train, 
                    y_train, 
                    epochs=10,
                    batch_size=128,
                    validation_split=0.1)

# Построение графиков
plt.plot(history.history['accuracy'], 
         label='Доля верных ответов на обучающем наборе')
plt.plot(history.history['val_accuracy'], 
         label='Доля верных ответов на проверочном наборе')
plt.xlabel('Эпоха обучения')
plt.ylabel('Доля верных ответов')
plt.legend()
plt.show()

# Оценка модели на тестовых данных
scores = model.evaluate(x_test, y_test, verbose=1)
print("Доля верных ответов на тестовых данных, в процентах:", round(scores[1] * 100, 4))

# Функция для предсказания оценки фильма
def predict_review(review):
    # Преобразуем отзыв в последовательность индексов
    words = review.lower().split()
    word_index = imdb.get_word_index()
    
    # Создаем последовательность индексов для нового отзыва
    review_sequence = [word_index.get(word, 2) for word in words]  # 2 — индекс для 'UNK' (неизвестное слово)
    
    # Векторизация нового отзыва
    new_review_vector = np.zeros((1, max_words))
    new_review_vector[0, review_sequence] = 1.

    # Предсказание
    prediction = model.predict(new_review_vector)
    
    # Интерпретация результата
    sentiment_score = prediction[0][0]
    
    if sentiment_score >= 0.5:
        sentiment = "Положительный отзыв"
        rating = round(sentiment_score * 10)  # Оценка от 0 до 10
    else:
        sentiment = "Отрицательный отзыв"
        rating = round((1 - sentiment_score) * 10)  # Оценка от 0 до 10

    return sentiment, rating

# Новый отзыв для тестирования
new_review = "This movie was terrible. The plot was boring and the acting was awful."
sentiment, rating = predict_review(new_review)

print(f"Отзыв: {new_review}")
print(f"Результат анализа: {sentiment}")
print(f"Оценка фильма: {rating}/10")
